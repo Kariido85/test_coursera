{
 "cells": [
  {
   "cell_type": "markdown",
   "id": "df6460d6-2f6b-4fec-92a1-dc236a909fa4",
   "metadata": {},
   "source": [
    "## Data Science Tools and Ecosystem"
   ]
  },
  {
   "cell_type": "markdown",
   "id": "6c06e766-15ef-4bb0-ad25-2097bcfa4308",
   "metadata": {},
   "source": [
    "In this notebook, Data Science Tools and Ecosystems are summarized."
   ]
  },
  {
   "cell_type": "markdown",
   "id": "3b2b8e61-b18e-40aa-9569-4175221f7711",
   "metadata": {},
   "source": [
    "**Objectives:**\n",
    "- List popular languages for data science\n",
    "- List commonly used libraries by Data Scientists\n",
    "- List a few examples of evaluatin arithmetic expressions in Python"
   ]
  },
  {
   "cell_type": "markdown",
   "id": "10a5d779-bb5f-4a17-a54f-9f7a252960bf",
   "metadata": {},
   "source": [
    "Some of the popular languages that Data Scientists use are:\n",
    "1. R\n",
    "2. Python\n",
    "3. SQL"
   ]
  },
  {
   "cell_type": "markdown",
   "id": "2034a1a9-358e-4ca7-8e4a-12ead6370b93",
   "metadata": {},
   "source": [
    "Some of the commonly used libraries used by Data Scientists include:\n",
    "1. Pandas\n",
    "2. NumPy\n",
    "3. Matplotlib"
   ]
  },
  {
   "cell_type": "markdown",
   "id": "603883f0-1708-404f-be23-1121bb453583",
   "metadata": {},
   "source": [
    "| Data Science Tools |\n",
    "|--------------------|\n",
    "| Jupyter Notebook  |\n",
    "| RStudio           |\n",
    "| Apache Zeppelin   |\n"
   ]
  },
  {
   "cell_type": "markdown",
   "id": "e9a5b230-e73d-4f93-b2d1-d027d7df6153",
   "metadata": {},
   "source": [
    "### Below are a few examples of evaluating arithmetic expressions in Python\n",
    "\n",
    "\n",
    "- Addition: answer = 2 + 2\n",
    "- Multiplication: answer = 2 * 2\n",
    "- Division: answer = 2 / 2"
   ]
  },
  {
   "cell_type": "code",
   "execution_count": 3,
   "id": "752974a9-a92d-427a-b749-413f5b594470",
   "metadata": {},
   "outputs": [
    {
     "name": "stdout",
     "output_type": "stream",
     "text": [
      "17\n"
     ]
    }
   ],
   "source": [
    "#This a simple arithmetic expression to mutiply then add integers.\n",
    "\n",
    "answer = (3*4)+5\n",
    "print(answer)"
   ]
  },
  {
   "cell_type": "code",
   "execution_count": 5,
   "id": "40e4cb14-ee3c-48a3-9f49-49ebebae5232",
   "metadata": {},
   "outputs": [
    {
     "name": "stdout",
     "output_type": "stream",
     "text": [
      "3.3333333333333335\n"
     ]
    }
   ],
   "source": [
    "#This will convert 200 minutes to hours by diving by 60\n",
    "\n",
    "hours = 200 / 60\n",
    "print(hours)"
   ]
  },
  {
   "cell_type": "markdown",
   "id": "c7c1fa77-b6e8-4230-915c-d5ead6536ab7",
   "metadata": {},
   "source": [
    "## Author\n",
    "Khalid Belhaji"
   ]
  },
  {
   "cell_type": "code",
   "execution_count": null,
   "id": "e9c25301-9d6d-40cb-b0e9-d581df919a1c",
   "metadata": {},
   "outputs": [],
   "source": []
  }
 ],
 "metadata": {
  "kernelspec": {
   "display_name": "Python 3 (ipykernel)",
   "language": "python",
   "name": "python3"
  },
  "language_info": {
   "codemirror_mode": {
    "name": "ipython",
    "version": 3
   },
   "file_extension": ".py",
   "mimetype": "text/x-python",
   "name": "python",
   "nbconvert_exporter": "python",
   "pygments_lexer": "ipython3",
   "version": "3.12.9"
  }
 },
 "nbformat": 4,
 "nbformat_minor": 5
}
